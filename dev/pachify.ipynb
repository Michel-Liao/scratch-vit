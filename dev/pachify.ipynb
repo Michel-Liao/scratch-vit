{
 "cells": [
  {
   "cell_type": "code",
   "execution_count": 3,
   "metadata": {},
   "outputs": [],
   "source": [
    "import cupy as cp"
   ]
  },
  {
   "cell_type": "code",
   "execution_count": 11,
   "metadata": {},
   "outputs": [
    {
     "name": "stdout",
     "output_type": "stream",
     "text": [
      "(64, 1, 28, 28)\n",
      "<class 'cupy.ndarray'>\n",
      "<CUDA Device 0>\n"
     ]
    }
   ],
   "source": [
    "B = 64\n",
    "H = 28\n",
    "W = 28\n",
    "C = 1\n",
    "\n",
    "x = cp.random.rand(B, C, H, W) # NOTE: Fits with Dataloader formatting\n",
    "print(x.shape)\n",
    "print(type(x))\n",
    "print(x.device)"
   ]
  },
  {
   "cell_type": "code",
   "execution_count": null,
   "metadata": {},
   "outputs": [
    {
     "name": "stdout",
     "output_type": "stream",
     "text": [
      "(64, 49, 16)\n"
     ]
    }
   ],
   "source": [
    "def patchify(images: cp.ndarray, patch_size=16) -> cp.ndarray:\n",
    "    \"\"\"\n",
    "    Patchify the image. Requires that H and W is divisible by patch_size.\n",
    "\n",
    "    Args:\n",
    "        images (cp.ndarray): (B, C, H, W)\n",
    "        patch_size (int): Size of the square patches.\n",
    "\n",
    "    Returns:\n",
    "        patches (cp.ndarray): (B, N, patch_size**2 * C), where N = H*W/patch_size**2\n",
    "    \"\"\"\n",
    "    B, C, H, W = images.shape\n",
    "    assert H % patch_size == 0 and W % patch_size == 0, f\"Image dimensions {H}x{W} must be divisible by patch_size {patch_size}\"\n",
    "\n",
    "    num_patches_in_h = H // patch_size\n",
    "    num_patches_in_w = W // patch_size\n",
    "\n",
    "    patches = cp.empty((B, H * W//patch_size**2, C * patch_size**2), dtype=images.dtype)\n",
    "\n",
    "    for y in range(num_patches_in_h):\n",
    "        for x in range(num_patches_in_w):\n",
    "            patch = images[:, :, y*patch_size:(y+1)*patch_size, x*patch_size:(x+1)*patch_size]\n",
    "            patches[:, num_patches_in_w * y + x, :] = patch.reshape(B, C * patch_size * patch_size)\n",
    "\n",
    "patchify(x, patch_size=4)"
   ]
  },
  {
   "cell_type": "code",
   "execution_count": null,
   "metadata": {},
   "outputs": [],
   "source": []
  }
 ],
 "metadata": {
  "kernelspec": {
   "display_name": "scratch_vit",
   "language": "python",
   "name": "scratch_vit"
  },
  "language_info": {
   "codemirror_mode": {
    "name": "ipython",
    "version": 3
   },
   "file_extension": ".py",
   "mimetype": "text/x-python",
   "name": "python",
   "nbconvert_exporter": "python",
   "pygments_lexer": "ipython3",
   "version": "3.10.0"
  }
 },
 "nbformat": 4,
 "nbformat_minor": 2
}
