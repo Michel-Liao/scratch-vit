{
 "cells": [
  {
   "cell_type": "code",
   "execution_count": 19,
   "metadata": {},
   "outputs": [],
   "source": [
    "%matplotlib inline\n",
    "import matplotlib.pyplot as plt\n",
    "import torch\n",
    "from torch.utils.data import DataLoader\n",
    "from torchvision import datasets\n",
    "from torchvision.transforms import v2\n",
    "from PIL import Image"
   ]
  },
  {
   "cell_type": "code",
   "execution_count": 17,
   "metadata": {},
   "outputs": [
    {
     "name": "stderr",
     "output_type": "stream",
     "text": [
      "/home/michel/miniforge3/envs/scratch_vit/lib/python3.10/site-packages/torchvision/transforms/v2/_deprecated.py:42: UserWarning: The transform `ToTensor()` is deprecated and will be removed in a future release. Instead, please use `v2.Compose([v2.ToImage(), v2.ToDtype(torch.float32, scale=True)])`.Output is equivalent up to float precision.\n",
      "  warnings.warn(\n"
     ]
    },
    {
     "data": {
      "text/plain": [
       "Dataset MNIST\n",
       "    Number of datapoints: 60000\n",
       "    Root location: /home/michel/repos/scratch_vit/data\n",
       "    Split: Train\n",
       "    StandardTransform\n",
       "Transform: ToTensor()"
      ]
     },
     "execution_count": 17,
     "metadata": {},
     "output_type": "execute_result"
    }
   ],
   "source": [
    "datasets.MNIST('/home/michel/repos/scratch_vit/data', train=True, download=True, transform=v2.ToTensor())"
   ]
  },
  {
   "cell_type": "code",
   "execution_count": 28,
   "metadata": {},
   "outputs": [
    {
     "name": "stdout",
     "output_type": "stream",
     "text": [
      "<class 'torch.Tensor'> torch.Size([4, 1, 28, 28])\n",
      "<class 'torch.Tensor'> torch.Size([4])\n"
     ]
    },
    {
     "data": {
      "image/png": "[encoded data removed]",
      "text/plain": [
       "<Figure size 640x480 with 8 Axes>"
      ]
     },
     "metadata": {},
     "output_type": "display_data"
    }
   ],
   "source": [
    "\n",
    "transform = v2.Compose([v2.ToImage(), v2.ToDtype(torch.float32, scale=True)])\n",
    "\n",
    "train_dataset = datasets.MNIST('/home/michel/repos/scratch_vit/data', train=True, download=False, transform=transform)\n",
    "test_dataset = datasets.MNIST('/home/michel/repos/scratch_vit/data', train=False, download=False, transform=transform)\n",
    "\n",
    "train_loader = DataLoader(train_dataset, batch_size=4, shuffle=True)\n",
    "test_loader = DataLoader(train_dataset, batch_size=4, shuffle=True)\n",
    "\n",
    "im, label = next(iter(train_loader))\n",
    "print(type(im), im.shape)\n",
    "print(type(label), label.shape)\n",
    "\n",
    "fig, ax = plt.subplots(2, 4)\n",
    "for j in range(4):\n",
    "    ax[0, j].imshow(im[j, 0], cmap='gray')\n",
    "    ax[0, j].set_title(label[j].item())\n",
    "    ax[0, j].axis('off')\n",
    "\n",
    "im, label = next(iter(test_loader))\n",
    "for j in range(4):\n",
    "    ax[1, j].imshow(im[j, 0], cmap='gray')\n",
    "    ax[1, j].set_title(label[j].item())\n",
    "    ax[1, j].axis('off')"
   ]
  }
 ],
 "metadata": {
  "kernelspec": {
   "display_name": "scratch_vit",
   "language": "python",
   "name": "scratch_vit"
  },
  "language_info": {
   "codemirror_mode": {
    "name": "ipython",
    "version": 3
   },
   "file_extension": ".py",
   "mimetype": "text/x-python",
   "name": "python",
   "nbconvert_exporter": "python",
   "pygments_lexer": "ipython3",
   "version": "3.10.0"
  }
 },
 "nbformat": 4,
 "nbformat_minor": 2
}
